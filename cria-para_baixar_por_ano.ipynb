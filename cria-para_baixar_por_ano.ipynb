{
 "cells": [
  {
   "cell_type": "code",
   "execution_count": null,
   "metadata": {},
   "outputs": [],
   "source": [
    "import json\n",
    "from collections import Counter\n",
    "import numpy as np\n",
    "import re\n",
    "hierarquia_dodfs = json.load(open('hierarquia_dodfs.json'))"
   ]
  },
  {
   "cell_type": "code",
   "execution_count": null,
   "metadata": {},
   "outputs": [],
   "source": [
    "def get_dodf_type(s, dbg=False, default='integra'):\n",
    "    s = s.lower()\n",
    "    if 'sup' in s:\n",
    "        return 'suplemento'\n",
    "    elif 'ext' in s or 'etx' in s or 'exr' in s:\n",
    "        return 'extra'\n",
    "    elif 'esp' in s:\n",
    "        return 'especial'\n",
    "    elif 'int' in s or 'sec' in s:\n",
    "        return 'integra'\n",
    "    else:\n",
    "        if dbg:\n",
    "            print(\"SEM CLASSE:\", s, '| default: ', default)        \n",
    "        return default"
   ]
  },
  {
   "cell_type": "code",
   "execution_count": null,
   "metadata": {},
   "outputs": [],
   "source": [
    "nome_tipo = {k: get_dodf_type(k) for k in hierarquia_dodfs}\n",
    "integra = [k for k in nome_tipo if nome_tipo[k] == 'integra']"
   ]
  },
  {
   "cell_type": "code",
   "execution_count": null,
   "metadata": {},
   "outputs": [],
   "source": [
    "# nome_tipo"
   ]
  },
  {
   "cell_type": "code",
   "execution_count": null,
   "metadata": {
    "scrolled": true
   },
   "outputs": [],
   "source": [
    "# np.random.choice(integra, 355, replace=False)"
   ]
  },
  {
   "cell_type": "code",
   "execution_count": null,
   "metadata": {},
   "outputs": [],
   "source": [
    "para_baixar = {}\n",
    "for year in range(2001, 2021):\n",
    "    filtered = [i for i in integra if f'/{year}/' in i]\n",
    "    np.random.seed(0)\n",
    "    para_baixar[year] = sorted(np.random.choice(\n",
    "        filtered, 18, replace=False\n",
    "    ), key= lambda x: int(re.search(r'/(\\d+)_', x).group(1)))\n"
   ]
  },
  {
   "cell_type": "code",
   "execution_count": null,
   "metadata": {},
   "outputs": [],
   "source": [
    "para_baixar[2020]"
   ]
  },
  {
   "cell_type": "code",
   "execution_count": null,
   "metadata": {},
   "outputs": [],
   "source": [
    "json.dump( para_baixar, open('para_baixar_por_ano.json', 'w', encoding='utf-8'),\n",
    "          indent=4*' ', ensure_ascii=False )"
   ]
  }
 ],
 "metadata": {
  "kernelspec": {
   "display_name": "Python 3",
   "language": "python",
   "name": "python3"
  },
  "language_info": {
   "codemirror_mode": {
    "name": "ipython",
    "version": 3
   },
   "file_extension": ".py",
   "mimetype": "text/x-python",
   "name": "python",
   "nbconvert_exporter": "python",
   "pygments_lexer": "ipython3",
   "version": "3.8.1"
  }
 },
 "nbformat": 4,
 "nbformat_minor": 4
}
