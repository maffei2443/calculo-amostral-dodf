{
 "cells": [
  {
   "cell_type": "code",
   "execution_count": null,
   "metadata": {},
   "outputs": [],
   "source": [
    "import os\n",
    "from collections import Counter\n",
    "import unidecode\n",
    "import unicodedata\n",
    "from unidecode import unidecode_expect_ascii\n",
    "import gc\n",
    "import json\n",
    "import re\n",
    "from itertools import chain\n",
    "ROOT = 'ORIGINAL_CSV'\n",
    "# ROOT = 'CSV'\n",
    "\n",
    "def get_dodf_type(s, dbg=False, default='integra'):\n",
    "    s = s.lower()\n",
    "    if 'sup' in s:\n",
    "        return 'suplemento'\n",
    "    elif 'ext' in s or 'etx' in s or 'exr' in s:\n",
    "        return 'extra'\n",
    "    elif 'esp' in s:\n",
    "        return 'especial'\n",
    "    elif 'int' in s or 'sec' in s:\n",
    "        return 'integra'\n",
    "    else:\n",
    "        if dbg:\n",
    "            print(\"SEM CLASSE:\", s, '| default: ', default)        \n",
    "        return default"
   ]
  },
  {
   "cell_type": "code",
   "execution_count": null,
   "metadata": {},
   "outputs": [],
   "source": [
    "%%time\n",
    "# `diretorios`: lista dos DIRETÓRIOS relativos aos DODFs.\n",
    "# Não há portanto duplicatas, mas ocorre de vários elementos \n",
    "# possuírem mesmo prefixo.\n",
    "\n",
    "diretorios = [i[0] for i in os.walk(ROOT)]\n",
    "nempty = [i for i in os.walk(ROOT) if (i[1] or i[2])]\n",
    "empty = [i[0] for i in os.walk(ROOT) if (not i[1] and not i[2])]\n",
    "\n",
    "print(\"paths, not-empty, empty\")\n",
    "print(len(diretorios), len(nempty), len(empty), end='\\n\\n')\n",
    "del empty, nempty;\n",
    "gc.collect();"
   ]
  },
  {
   "cell_type": "markdown",
   "metadata": {},
   "source": [
    "## Note-se que afinal, as primeiras 3 partes de QUALQUER diretório são dispensáveis para o fim de contagem, servindo apenas para organização"
   ]
  },
  {
   "cell_type": "code",
   "execution_count": null,
   "metadata": {
    "scrolled": false
   },
   "outputs": [],
   "source": [
    "hier = {}\n",
    "def prefix(x):\n",
    "    return '/'.joins(x.split('/')[:-1])\n",
    "for s in diretorios:\n",
    "    l = s.split('/')\n",
    "    d = hier\n",
    "    for p in l[:-1]:\n",
    "        d = d.get(p, dict())\n",
    "    d[l[-1]] = dict()\n",
    "hier[ROOT].keys()"
   ]
  },
  {
   "cell_type": "code",
   "execution_count": null,
   "metadata": {
    "scrolled": true
   },
   "outputs": [],
   "source": [
    "diretorios_por_ano = {}\n",
    "for year in hier[ROOT]:\n",
    "    diretorios_por_ano[year] = [\n",
    "        i for i in diretorios if year in i and i.count('/') > 2\n",
    "    ]\n",
    "# diretorios_por_ano['2001'][:10]"
   ]
  },
  {
   "cell_type": "code",
   "execution_count": null,
   "metadata": {},
   "outputs": [],
   "source": [
    "Counter([i.count('/') for i in diretorios ])"
   ]
  },
  {
   "cell_type": "code",
   "execution_count": null,
   "metadata": {
    "scrolled": false
   },
   "outputs": [],
   "source": [
    "hier = {}\n",
    "# def normalize_dir(s):\n",
    "#     s = unidecode_expect_ascii(s)\n",
    "#     return s.lower()\n",
    "\n",
    "worthy_dir = [i for i in diretorios if i.count('/') > 2]\n",
    "# has_deg = []\n",
    "for i in sorted(\n",
    "#     map(normalize_dir, worthy_dir),\n",
    "    worthy_dir,\n",
    "    key=lambda x: (x.count('/'), re.search(r'\\d{4}', x).group())):\n",
    "    qtd_barra = i.count('/')\n",
    "#     if 'deg' in i:\n",
    "#     if '°' in i:\n",
    "        \n",
    "#         \"\"\"\"DECISÃO: ignorar esses raríssimos casos\"\"\"\n",
    "#         has_deg.append(i)\n",
    "#         continue\n",
    "        \n",
    "    if qtd_barra == 3:\n",
    "        if i in hier:\n",
    "            print(\"CONFLITO:\", i)\n",
    "        hier[i] = []\n",
    "#   qtd_barra == 4 ou seja: é um arquivo de uma pasta\n",
    "#   com várias partes de um DODF\n",
    "    else:\n",
    "        hier[ i[:i.rfind('/')] ].append(i.split('/')[-1])\n",
    "# print(\"Tem 'deg' no nome:\", len(has_deg))\n",
    "# \"\"\"Como são muito poucos, serão ignorados\"\"\""
   ]
  },
  {
   "cell_type": "code",
   "execution_count": null,
   "metadata": {},
   "outputs": [],
   "source": [
    "Counter({k:get_dodf_type(k) for (k,v) in hier.items()}.values())"
   ]
  },
  {
   "cell_type": "code",
   "execution_count": null,
   "metadata": {},
   "outputs": [],
   "source": [
    "json.dump(hier, open('hierarquia_dodfs.json', 'w', encoding='utf8'),\n",
    "          indent=4*' ', ensure_ascii=False)"
   ]
  }
 ],
 "metadata": {
  "kernelspec": {
   "display_name": "Python 3",
   "language": "python",
   "name": "python3"
  },
  "language_info": {
   "codemirror_mode": {
    "name": "ipython",
    "version": 3
   },
   "file_extension": ".py",
   "mimetype": "text/x-python",
   "name": "python",
   "nbconvert_exporter": "python",
   "pygments_lexer": "ipython3",
   "version": "3.8.1"
  }
 },
 "nbformat": 4,
 "nbformat_minor": 4
}
