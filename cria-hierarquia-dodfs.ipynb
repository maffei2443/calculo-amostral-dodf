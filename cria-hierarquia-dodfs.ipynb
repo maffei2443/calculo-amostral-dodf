{
 "cells": [
  {
   "cell_type": "code",
   "execution_count": 1,
   "metadata": {},
   "outputs": [],
   "source": [
    "import pandas as pd\n",
    "import numpy as np\n",
    "import os\n",
    "from collections import Counter\n",
    "import unidecode\n",
    "import unicodedata\n",
    "from unidecode import unidecode_expect_ascii\n",
    "import gc\n",
    "import json\n",
    "import re\n",
    "from itertools import chain\n",
    "ROOT = 'ORIGINAL_CSV'\n",
    "# ROOT = 'CSV'\n",
    "\n",
    "def get_dodf_type(s, dbg=False, default='integra'):\n",
    "    if 'sup' in s:\n",
    "        return 'suplemento'\n",
    "    elif 'ext' in s or 'etx' in s or 'exr' in s:\n",
    "        return 'extra'\n",
    "    elif 'esp' in s:\n",
    "        return 'especial'\n",
    "    elif 'int' in s or 'sec' in s:\n",
    "        return 'integra'\n",
    "    else:\n",
    "        if dbg:\n",
    "            print(\"SEM CLASSE:\", s, '| default: ', default)        \n",
    "        return default"
   ]
  },
  {
   "cell_type": "code",
   "execution_count": 2,
   "metadata": {},
   "outputs": [
    {
     "name": "stdout",
     "output_type": "stream",
     "text": [
      "paths, not-empty, empty\n",
      "17136 9565 7571\n",
      "\n",
      "CPU times: user 727 ms, sys: 402 ms, total: 1.13 s\n",
      "Wall time: 1.14 s\n"
     ]
    },
    {
     "data": {
      "text/plain": [
       "0"
      ]
     },
     "execution_count": 2,
     "metadata": {},
     "output_type": "execute_result"
    }
   ],
   "source": [
    "%%time\n",
    "# `diretorios`: lista dos DIRETÓRIOS relativos aos DODFs.\n",
    "# Não há portanto duplicatas, mas ocorre de vários elementos \n",
    "# possuírem mesmo prefixo.\n",
    "\n",
    "diretorios = [i[0] for i in os.walk(ROOT)]\n",
    "nempty = [i for i in os.walk(ROOT) if (i[1] or i[2])]\n",
    "empty = [i[0] for i in os.walk(ROOT) if (not i[1] and not i[2])]\n",
    "\n",
    "print(\"paths, not-empty, empty\")\n",
    "print(len(diretorios), len(nempty), len(empty), end='\\n\\n')\n",
    "del empty, nempty;\n",
    "gc.collect();"
   ]
  },
  {
   "cell_type": "code",
   "execution_count": 3,
   "metadata": {
    "scrolled": true
   },
   "outputs": [
    {
     "data": {
      "text/plain": [
       "['ORIGINAL_CSV',\n",
       " 'ORIGINAL_CSV/2018',\n",
       " 'ORIGINAL_CSV/2018/02_Fevereiro',\n",
       " 'ORIGINAL_CSV/2018/02_Fevereiro/DODF 011 09-02-2018 EDICAO EXTRA']"
      ]
     },
     "execution_count": 3,
     "metadata": {},
     "output_type": "execute_result"
    }
   ],
   "source": [
    "diretorios[:4]"
   ]
  },
  {
   "cell_type": "markdown",
   "metadata": {},
   "source": [
    "## Note-se que afinal, as primeiras 3 partes de QUALQUER diretório são dispensáveis para o fim de contagem, servindo apenas para organização"
   ]
  },
  {
   "cell_type": "code",
   "execution_count": 4,
   "metadata": {
    "scrolled": false
   },
   "outputs": [
    {
     "data": {
      "text/plain": [
       "dict_keys(['2018', '2002', '2005', '2003', '2009', '2001', '2006', '2020', '2015', '2013', '2011', '2019', '2012', '2014', '2010', '2017', '2008', '2016', '2004', '2007'])"
      ]
     },
     "execution_count": 4,
     "metadata": {},
     "output_type": "execute_result"
    }
   ],
   "source": [
    "hier = {}\n",
    "def prefix(x):\n",
    "    return '/'.joins(x.split('/')[:-1])\n",
    "for s in diretorios:\n",
    "    l = s.lower().split('/')\n",
    "    d = hier\n",
    "    for p in l[:-1]:\n",
    "        d = d.get(p, dict())\n",
    "    d[l[-1]] = dict()\n",
    "hier[ROOT.lower()].keys()"
   ]
  },
  {
   "cell_type": "code",
   "execution_count": 5,
   "metadata": {
    "scrolled": true
   },
   "outputs": [
    {
     "data": {
      "text/plain": [
       "['ORIGINAL_CSV/2001/12_Dezembro/DODF 229 - 03-12-2001',\n",
       " 'ORIGINAL_CSV/2001/12_Dezembro/DODF 229 - 03-12-2001/DODF Seção 3 3-12-2001',\n",
       " 'ORIGINAL_CSV/2001/12_Dezembro/DODF 229 - 03-12-2001/DODF Seção 1 3-12-2001',\n",
       " 'ORIGINAL_CSV/2001/12_Dezembro/DODF 229 - 03-12-2001/DODF Seção 2 3-12-2001',\n",
       " 'ORIGINAL_CSV/2001/12_Dezembro/DODF 232 - 06-12-2001',\n",
       " 'ORIGINAL_CSV/2001/12_Dezembro/DODF 232 - 06-12-2001/DODF Seção 1 6-12-2001',\n",
       " 'ORIGINAL_CSV/2001/12_Dezembro/DODF 232 - 06-12-2001/DODF Seção 2 6-12-2001',\n",
       " 'ORIGINAL_CSV/2001/12_Dezembro/DODF 232 - 06-12-2001/DODF Seção 3 6-12-2001',\n",
       " 'ORIGINAL_CSV/2001/12_Dezembro/DODF 243 - 21-12-2001',\n",
       " 'ORIGINAL_CSV/2001/12_Dezembro/DODF 243 - 21-12-2001/DODF Seção 2 21-12-2001']"
      ]
     },
     "execution_count": 5,
     "metadata": {},
     "output_type": "execute_result"
    }
   ],
   "source": [
    "diretorios_por_ano = {}\n",
    "for year in hier[ROOT.lower()]:\n",
    "    diretorios_por_ano[year] = [\n",
    "        i for i in diretorios if year in i and i.count('/') > 2\n",
    "    ]\n",
    "diretorios_por_ano['2001'][:10]"
   ]
  },
  {
   "cell_type": "code",
   "execution_count": 6,
   "metadata": {},
   "outputs": [
    {
     "data": {
      "text/plain": [
       "Counter({0: 1, 1: 20, 2: 225, 3: 5489, 4: 11401})"
      ]
     },
     "execution_count": 6,
     "metadata": {},
     "output_type": "execute_result"
    }
   ],
   "source": [
    "Counter([i.count('/') for i in diretorios ])"
   ]
  },
  {
   "cell_type": "code",
   "execution_count": 7,
   "metadata": {
    "scrolled": false
   },
   "outputs": [
    {
     "name": "stdout",
     "output_type": "stream",
     "text": [
      "Tem 'deg' no nome: 15\n"
     ]
    },
    {
     "data": {
      "text/plain": [
       "'Como são muito poucos, serão ignorados'"
      ]
     },
     "execution_count": 7,
     "metadata": {},
     "output_type": "execute_result"
    }
   ],
   "source": [
    "hier = {}\n",
    "def normalize_dir(s):\n",
    "    s = unidecode_expect_ascii(s)\n",
    "    return s.lower()\n",
    "\n",
    "worthy_dir = [i for i in diretorios if i.count('/') > 2]\n",
    "has_deg = []\n",
    "for i in sorted(\n",
    "    map(normalize_dir, worthy_dir),\n",
    "    key=lambda x: (x.count('/'), re.search(r'\\d{4}', x).group())):\n",
    "    qtd_barra = i.count('/')\n",
    "    if 'deg' in i:\n",
    "        \"\"\"\"DECISÃO: ignorar esses raríssimos casos\"\"\"\n",
    "        has_deg.append(i)\n",
    "        continue\n",
    "        \n",
    "    if qtd_barra == 3:\n",
    "        if i in hier:\n",
    "            print(\"CONFLITO:\", i)\n",
    "        hier[i] = []\n",
    "#   qtd_barra == 4 ou seja: é um arquivo de uma pasta\n",
    "#   com várias partes de um DODF\n",
    "    else:\n",
    "        hier[ i[:i.rfind('/')] ].append(i.split('/')[-1])\n",
    "print(\"Tem 'deg' no nome:\", len(has_deg))\n",
    "\"\"\"Como são muito poucos, serão ignorados\"\"\""
   ]
  },
  {
   "cell_type": "code",
   "execution_count": 8,
   "metadata": {},
   "outputs": [
    {
     "data": {
      "text/plain": [
       "Counter({'integra': 4643, 'suplemento': 282, 'extra': 556, 'especial': 2})"
      ]
     },
     "execution_count": 8,
     "metadata": {},
     "output_type": "execute_result"
    }
   ],
   "source": [
    "Counter({k:get_dodf_type(k) for (k,v) in hier.items()}.values())"
   ]
  },
  {
   "cell_type": "code",
   "execution_count": 9,
   "metadata": {},
   "outputs": [],
   "source": [
    "json.dump(hier, open('hierarquia_dodfs.json', 'w'))"
   ]
  },
  {
   "cell_type": "code",
   "execution_count": null,
   "metadata": {},
   "outputs": [],
   "source": []
  },
  {
   "cell_type": "code",
   "execution_count": null,
   "metadata": {},
   "outputs": [],
   "source": []
  },
  {
   "cell_type": "code",
   "execution_count": null,
   "metadata": {},
   "outputs": [],
   "source": []
  },
  {
   "cell_type": "code",
   "execution_count": null,
   "metadata": {},
   "outputs": [],
   "source": []
  },
  {
   "cell_type": "code",
   "execution_count": null,
   "metadata": {},
   "outputs": [],
   "source": [
    "re.findall('.{10}deg', str(hier))"
   ]
  },
  {
   "cell_type": "code",
   "execution_count": null,
   "metadata": {},
   "outputs": [],
   "source": [
    "{k: len(v) for (k,v) in diretorios_por_ano.items()}"
   ]
  },
  {
   "cell_type": "code",
   "execution_count": null,
   "metadata": {},
   "outputs": [],
   "source": [
    "def undo_hier(dic):\n",
    "    if not dic:\n",
    "        return []\n",
    "    else:\n",
    "        res = []\n",
    "        for k, v in dic.items():\n",
    "            all_keys = undo_hier(v)\n",
    "            res.append(\n",
    "                [ f'{k}/{i}' for i in all_keys] if all_keys else [k]\n",
    "            )\n",
    "        return list(chain(*res))"
   ]
  },
  {
   "cell_type": "code",
   "execution_count": null,
   "metadata": {},
   "outputs": [],
   "source": [
    "hier['csv']['2018'].keys()"
   ]
  },
  {
   "cell_type": "code",
   "execution_count": null,
   "metadata": {},
   "outputs": [],
   "source": [
    "hier['csv']['2017']['04_abril']"
   ]
  },
  {
   "cell_type": "code",
   "execution_count": null,
   "metadata": {},
   "outputs": [],
   "source": [
    "for i in hier['CSV']['2018']['01_Janeiro']:\n",
    "    print(i, type(i))"
   ]
  },
  {
   "cell_type": "code",
   "execution_count": null,
   "metadata": {},
   "outputs": [],
   "source": [
    "def fix_folder_name(s):\n",
    "    s = re.sub(r'\\ +', ' ', s)\n",
    "    s = s.replace(' ', _)\n",
    "    return s\n",
    "\n",
    "pastas_dodf = [\n",
    "    '/'.join(i.split('/')[3:] if 'dodf' in i.lower() else i)\n",
    "     for i in diretorios if i.count('/') > 2\n",
    "]\n",
    "pastas_dodf = [unidecode.unidecode(i) for i in pastas_dodf]\n",
    "pastas_dodf = [i.lower() for i in pastas_dodf]\n",
    "ctr = Counter(pastas_dodf)"
   ]
  },
  {
   "cell_type": "code",
   "execution_count": null,
   "metadata": {},
   "outputs": [],
   "source": [
    "len(pastas_dodf)"
   ]
  },
  {
   "cell_type": "code",
   "execution_count": null,
   "metadata": {},
   "outputs": [],
   "source": [
    "Counter(pastas_dodf)"
   ]
  },
  {
   "cell_type": "code",
   "execution_count": null,
   "metadata": {},
   "outputs": [],
   "source": [
    "problematicos = [i for i in pastas_dodf if 'dodf' not in i]\n",
    "len(problematicos)"
   ]
  },
  {
   "cell_type": "markdown",
   "metadata": {},
   "source": [
    "## Há 136 pastas com nomes problemáticos. Será ignoradas na hora de fazer amostragem, mas consideradas na hora de calcular o tamanha mínimo da amosta"
   ]
  },
  {
   "cell_type": "code",
   "execution_count": null,
   "metadata": {},
   "outputs": [],
   "source": [
    "set(problematicos) == set([i.lower() for i in l])"
   ]
  },
  {
   "cell_type": "code",
   "execution_count": null,
   "metadata": {
    "scrolled": true
   },
   "outputs": [],
   "source": [
    "# prefixos_diretorios = [\n",
    "#     '/'.join(i.split('/')[:3]) for i in diretorios\n",
    "# ]\n",
    "# Counter(prefixos_diretorios)\n",
    "# # del diretorios\n",
    "# # gc.collect()"
   ]
  },
  {
   "cell_type": "code",
   "execution_count": null,
   "metadata": {
    "scrolled": false
   },
   "outputs": [],
   "source": [
    "pastas_dodf_combarra = [i for i in pastas_dodf if '/' in i]\n",
    "pastas_dodf_sembarra = [i for i in pastas_dodf if '/' not in i]\n",
    "\n",
    "print(len(pastas_dodf_sembarra), len(set(pastas_dodf_sembarra)))\n",
    "print(len(pastas_dodf_combarra), len(set(pastas_dodf_combarra)))\n",
    "# _=Counter(pastas_dodf_sembarra)\n",
    "\n",
    "# bad_ones = []\n",
    "# for i, v in _.items():\n",
    "#     if v > 1:\n",
    "#         bad_ones.append((i, v))\n",
    "# bad_ones"
   ]
  },
  {
   "cell_type": "code",
   "execution_count": null,
   "metadata": {},
   "outputs": [],
   "source": [
    "pastas_dodf_combarra"
   ]
  },
  {
   "cell_type": "markdown",
   "metadata": {},
   "source": [
    "# Agrupando por pastas, pois há casos com um DODF quebrado em várias seções\n"
   ]
  },
  {
   "cell_type": "code",
   "execution_count": null,
   "metadata": {},
   "outputs": [],
   "source": [
    "slash_group = {}\n",
    "for i in pastas_dodf_combarra:\n",
    "    slash_group[i.split('/')[0]] = []\n",
    "for i in pastas_dodf_combarra:\n",
    "    prf = i.split('/')[0]\n",
    "    slash_group[prf].append(i)\n",
    "print(\"Com pastas:\", len(slash_group))"
   ]
  },
  {
   "cell_type": "code",
   "execution_count": null,
   "metadata": {},
   "outputs": [],
   "source": [
    "Counter(map(lambda x: x.split('/')[0], pastas_dodf_combarra))"
   ]
  },
  {
   "cell_type": "markdown",
   "metadata": {},
   "source": [
    "# Mostrando quais nomes (COM BARRAS) são problemáticos. Considerarei-os como 'íntegra'"
   ]
  },
  {
   "cell_type": "code",
   "execution_count": null,
   "metadata": {
    "scrolled": true
   },
   "outputs": [],
   "source": [
    "for k, v in slash_group.items():\n",
    "    [get_dodf_type(i, dbg=True) for i in v];"
   ]
  },
  {
   "cell_type": "markdown",
   "metadata": {},
   "source": [
    "# Mostrando quais nomes (SEM BARRAS) são problemáticos (felizmente, nenhum)"
   ]
  },
  {
   "cell_type": "code",
   "execution_count": null,
   "metadata": {},
   "outputs": [],
   "source": [
    "for i in not_slash:\n",
    "    get_dodf_type(i)"
   ]
  },
  {
   "cell_type": "markdown",
   "metadata": {},
   "source": [
    "## Agora, hora de agrupar baseado no tipo de edicao"
   ]
  },
  {
   "cell_type": "code",
   "execution_count": null,
   "metadata": {},
   "outputs": [],
   "source": [
    "by_edition = {}\n",
    "\n",
    "by_edition_nslash = {\n",
    "    'suplemento': [],\n",
    "    'extra': [],\n",
    "    'especial': [],\n",
    "    'integra': [],\n",
    "}\n",
    "for i in not_slash:\n",
    "    by_edition_nslash[ get_dodf_type(i) ].append(i)\n",
    "\n",
    "\n",
    "\n",
    "by_edition_slash = {\n",
    "    'suplemento': [],\n",
    "    'extra': [],\n",
    "    'especial': [],\n",
    "    'integra': [],\n",
    "}\n",
    "for k, v in slash_group.items():\n",
    "    tipos = [(i, get_dodf_type(i)) for i in v]\n",
    "    s = set([i[1] for i in tipos])\n",
    "    for i in s:\n",
    "        for idx, (fname, tipo) in enumerate(tipos):\n",
    "            if i == tipo:\n",
    "                by_edition_slash[tipo].append(v[idx])\n",
    "                break\n",
    "for k in by_edition_slash:\n",
    "    by_edition_slash[k] = sorted(by_edition_slash[k])\n",
    "    by_edition_nslash[k] = sorted(by_edition_nslash[k])\n",
    "                \n",
    "by_edition['COM BARRA'] = by_edition_slash\n",
    "by_edition['SEM BARRA'] = by_edition_nslash\n",
    "\n",
    "json.dump(by_edition_nslash, open('nslash.json' ,'w'), \n",
    "          indent=4*' ', ensure_ascii=False)\n",
    "json.dump(by_edition_slash, open('slash.json' ,'w'), \n",
    "          indent=4*' ', ensure_ascii=False)\n",
    "\n",
    "# del by_edition_slash, by_edition_nslash\n",
    "# gc.collect()"
   ]
  },
  {
   "cell_type": "code",
   "execution_count": null,
   "metadata": {
    "scrolled": true
   },
   "outputs": [],
   "source": [
    "by_edition_slash"
   ]
  },
  {
   "cell_type": "code",
   "execution_count": null,
   "metadata": {},
   "outputs": [],
   "source": []
  },
  {
   "cell_type": "code",
   "execution_count": null,
   "metadata": {},
   "outputs": [],
   "source": []
  },
  {
   "cell_type": "code",
   "execution_count": null,
   "metadata": {},
   "outputs": [],
   "source": []
  },
  {
   "cell_type": "code",
   "execution_count": null,
   "metadata": {},
   "outputs": [],
   "source": [
    "by_edition['COM BARRA'].keys(), by_edition['SEM BARRA'].keys()"
   ]
  },
  {
   "cell_type": "code",
   "execution_count": null,
   "metadata": {},
   "outputs": [],
   "source": [
    "total = {}\n",
    "for k in by_edition['COM BARRA']:\n",
    "    total[k] = 0\n",
    "\n",
    "for v in by_edition.values():\n",
    "    for k, lis in v.items():\n",
    "        total[k] += len(lis)\n",
    "print(\"TOTAL: \")\n",
    "total"
   ]
  },
  {
   "cell_type": "markdown",
   "metadata": {},
   "source": [
    "# Precisamos ver quais os tipos de DODF cada pasta possui. No caso, são de interesse apenas os DODFs na íntegra."
   ]
  },
  {
   "cell_type": "code",
   "execution_count": null,
   "metadata": {},
   "outputs": [],
   "source": [
    "_=by_edition_slash['integra']\n",
    "len(set(_)), len(_)"
   ]
  },
  {
   "cell_type": "code",
   "execution_count": null,
   "metadata": {},
   "outputs": [],
   "source": [
    "_=by_edition_nslash['integra']\n",
    "len(set(_)), len(_)"
   ]
  },
  {
   "cell_type": "code",
   "execution_count": null,
   "metadata": {},
   "outputs": [],
   "source": [
    "ns_sem_dodf = [\n",
    "    i for i in by_edition_nslash['integra'] if 'dodf' not in i\n",
    "]\n",
    "ns_com_dodf = [\n",
    "    i for i in by_edition_nslash['integra'] if 'dodf' in i\n",
    "]\n",
    "len(ns_sem_dodf), len(ns_com_dodf)"
   ]
  },
  {
   "cell_type": "code",
   "execution_count": null,
   "metadata": {
    "scrolled": true
   },
   "outputs": [],
   "source": [
    "s_sem_dodf = [\n",
    "    i for i in by_edition_slash['integra'] if 'dodf' not in i\n",
    "]\n",
    "s_com_dodf = [\n",
    "    i for i in by_edition_slash['integra'] if 'dodf' in i\n",
    "]\n",
    "len(s_sem_dodf), len(s_com_dodf)"
   ]
  },
  {
   "cell_type": "code",
   "execution_count": null,
   "metadata": {},
   "outputs": [],
   "source": [
    "for k, v in Counter(by_edition_nslash['integra']).items():\n",
    "    if v > 1:\n",
    "        print(k, '|--->', v)"
   ]
  },
  {
   "cell_type": "code",
   "execution_count": null,
   "metadata": {
    "scrolled": true
   },
   "outputs": [],
   "source": [
    "ns_sem_dodf"
   ]
  }
 ],
 "metadata": {
  "kernelspec": {
   "display_name": "Python 3",
   "language": "python",
   "name": "python3"
  },
  "language_info": {
   "codemirror_mode": {
    "name": "ipython",
    "version": 3
   },
   "file_extension": ".py",
   "mimetype": "text/x-python",
   "name": "python",
   "nbconvert_exporter": "python",
   "pygments_lexer": "ipython3",
   "version": "3.8.1"
  }
 },
 "nbformat": 4,
 "nbformat_minor": 4
}
